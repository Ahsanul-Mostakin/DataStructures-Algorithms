{
  "nbformat": 4,
  "nbformat_minor": 0,
  "metadata": {
    "colab": {
      "provenance": []
    },
    "kernelspec": {
      "name": "python3",
      "display_name": "Python 3"
    },
    "language_info": {
      "name": "python"
    }
  },
  "cells": [
    {
      "cell_type": "code",
      "execution_count": null,
      "metadata": {
        "id": "1PtTfQo53AJR",
        "colab": {
          "base_uri": "https://localhost:8080/"
        },
        "outputId": "d87132f4-53c6-4371-ec0e-c80266ddaee6"
      },
      "outputs": [
        {
          "output_type": "stream",
          "name": "stdout",
          "text": [
            "Enter the value of n: 6\n",
            "count = 42\n"
          ]
        }
      ],
      "source": [
        "# Python equivalent of the C program\n",
        "\n",
        "# Input: Read an integer\n",
        "n = int(input(\"Enter the value of n: \"))\n",
        "\n",
        "# Initialize count\n",
        "count = 1\n",
        "\n",
        "# First nested loop\n",
        "for i in range(n):\n",
        "    for j in range(n):\n",
        "        count += 1\n",
        "\n",
        "\n",
        "# Second loop\n",
        "for i in range(n):\n",
        "    count += 1\n",
        "\n",
        "# Print the result\n",
        "print(\"count =\",  count)\n"
      ]
    }
  ]
}