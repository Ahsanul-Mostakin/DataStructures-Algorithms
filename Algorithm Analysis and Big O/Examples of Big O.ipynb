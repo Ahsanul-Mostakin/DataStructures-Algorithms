{
  "cells": [
    {
      "cell_type": "markdown",
      "id": "83585648-ee5d-4a20-a5ae-230a8d2f6796",
      "metadata": {
        "id": "83585648-ee5d-4a20-a5ae-230a8d2f6796"
      },
      "source": [
        "# O(1) Constant"
      ]
    },
    {
      "cell_type": "code",
      "source": [],
      "metadata": {
        "id": "Tg9pmO5F2FVg"
      },
      "id": "Tg9pmO5F2FVg",
      "execution_count": null,
      "outputs": []
    },
    {
      "cell_type": "code",
      "execution_count": null,
      "id": "7a8800a0-530e-49b4-958f-4826c76f815c",
      "metadata": {
        "id": "7a8800a0-530e-49b4-958f-4826c76f815c"
      },
      "outputs": [],
      "source": [
        "def func_constant(values):\n",
        "    print (values[0])"
      ]
    },
    {
      "cell_type": "code",
      "execution_count": null,
      "id": "39e2365f-8af9-4c1e-a20b-9d6519306588",
      "metadata": {
        "id": "39e2365f-8af9-4c1e-a20b-9d6519306588",
        "outputId": "4e144007-48c5-44b4-fdb5-78166b7c9291"
      },
      "outputs": [
        {
          "name": "stdout",
          "output_type": "stream",
          "text": [
            "1\n"
          ]
        }
      ],
      "source": [
        "first = [1, 2, 3, 4, 5, 6]\n",
        "func_constant(first)"
      ]
    },
    {
      "cell_type": "markdown",
      "id": "c43ff457-4917-4364-a88b-dea1c28f258d",
      "metadata": {
        "id": "c43ff457-4917-4364-a88b-dea1c28f258d"
      },
      "source": [
        "# O(n) Linear"
      ]
    },
    {
      "cell_type": "code",
      "execution_count": null,
      "id": "580c454a-d243-4575-b20c-abe35d390131",
      "metadata": {
        "id": "580c454a-d243-4575-b20c-abe35d390131"
      },
      "outputs": [],
      "source": [
        "def func_lin(first):\n",
        "    for val in first:\n",
        "        print (val)"
      ]
    },
    {
      "cell_type": "code",
      "execution_count": null,
      "id": "ec8da524-702c-4cc1-aacd-f5abf50dcd45",
      "metadata": {
        "id": "ec8da524-702c-4cc1-aacd-f5abf50dcd45",
        "outputId": "88eab4ae-50c8-416d-b028-6a87ec41f030"
      },
      "outputs": [
        {
          "name": "stdout",
          "output_type": "stream",
          "text": [
            "1\n",
            "2\n",
            "3\n",
            "4\n",
            "5\n",
            "6\n"
          ]
        }
      ],
      "source": [
        "func_lin(first)"
      ]
    },
    {
      "cell_type": "markdown",
      "id": "ea038e14-14b3-4883-ad7f-0dbd39b820ae",
      "metadata": {
        "id": "ea038e14-14b3-4883-ad7f-0dbd39b820ae"
      },
      "source": [
        "# O(n^2) Quadratic"
      ]
    },
    {
      "cell_type": "code",
      "execution_count": null,
      "id": "291d8c3d-0e6b-4027-a7f0-617197468e37",
      "metadata": {
        "id": "291d8c3d-0e6b-4027-a7f0-617197468e37"
      },
      "outputs": [],
      "source": [
        "    def func_quad(first):\n",
        "        for item_1 in first:\n",
        "            for item_2 in first:\n",
        "                print (item_1,item_2)"
      ]
    },
    {
      "cell_type": "code",
      "execution_count": null,
      "id": "13f9fde8-df13-48df-980f-ad73bc0e4e7f",
      "metadata": {
        "id": "13f9fde8-df13-48df-980f-ad73bc0e4e7f",
        "outputId": "25045f16-581c-4ab2-e8ce-7a42db04c663"
      },
      "outputs": [
        {
          "name": "stdout",
          "output_type": "stream",
          "text": [
            "1 1\n",
            "1 2\n",
            "1 3\n",
            "2 1\n",
            "2 2\n",
            "2 3\n",
            "3 1\n",
            "3 2\n",
            "3 3\n"
          ]
        }
      ],
      "source": [
        "first = [1,2,3]\n",
        "func_quad(first)"
      ]
    },
    {
      "cell_type": "code",
      "execution_count": null,
      "id": "7c997b5a-aa5a-4fc6-a671-7ae49f26d1c3",
      "metadata": {
        "id": "7c997b5a-aa5a-4fc6-a671-7ae49f26d1c3"
      },
      "outputs": [],
      "source": [
        "\n",
        "lst =[1,2,3]\n",
        "def print_once(lst):\n",
        "    for val in lst:\n",
        "        print (val)\n"
      ]
    },
    {
      "cell_type": "code",
      "execution_count": null,
      "id": "e4c6a84f-0b1e-42a9-9dfd-6f604a212f2e",
      "metadata": {
        "id": "e4c6a84f-0b1e-42a9-9dfd-6f604a212f2e",
        "outputId": "e422620c-412b-43f6-b6a9-c9fd63850e0a"
      },
      "outputs": [
        {
          "name": "stdout",
          "output_type": "stream",
          "text": [
            "1\n",
            "2\n",
            "3\n"
          ]
        }
      ],
      "source": [
        "print_once(lst)"
      ]
    },
    {
      "cell_type": "code",
      "execution_count": null,
      "id": "60e2fd20-fdb1-44d5-b24f-d3508aceb75e",
      "metadata": {
        "id": "60e2fd20-fdb1-44d5-b24f-d3508aceb75e"
      },
      "outputs": [],
      "source": [
        "def print_2(lst):\n",
        "    for val in lst:\n",
        "        print (val)\n",
        "\n",
        "    for val in lst:\n",
        "        print (val)"
      ]
    },
    {
      "cell_type": "code",
      "execution_count": null,
      "id": "256af54a-9a46-42d2-94ad-46afd1a3c74c",
      "metadata": {
        "id": "256af54a-9a46-42d2-94ad-46afd1a3c74c",
        "outputId": "6c6b8102-3b90-4449-e39b-1c6aa4cdfaa3"
      },
      "outputs": [
        {
          "name": "stdout",
          "output_type": "stream",
          "text": [
            "1\n",
            "2\n",
            "3\n",
            "1\n",
            "2\n",
            "3\n"
          ]
        }
      ],
      "source": [
        "print_2(lst)"
      ]
    },
    {
      "cell_type": "code",
      "execution_count": null,
      "id": "d9676784-4f76-417d-a2f5-642e382c6687",
      "metadata": {
        "id": "d9676784-4f76-417d-a2f5-642e382c6687"
      },
      "outputs": [],
      "source": [
        "def com(lst):\n",
        "    print(lst[0])\n",
        "    midpoint = len(lst) / 2\n",
        "\n",
        "    for val in lst[:midpoint]:\n",
        "        print(val)\n",
        "\n",
        "    for x in range(10):\n",
        "        print('Hello World')\n",
        "\n",
        ""
      ]
    },
    {
      "cell_type": "code",
      "execution_count": null,
      "id": "a3b96ea3-24e9-41ef-8789-445304b4590a",
      "metadata": {
        "id": "a3b96ea3-24e9-41ef-8789-445304b4590a"
      },
      "outputs": [],
      "source": [
        "lst = [1,2,3,4,5,6,7,8,9]"
      ]
    },
    {
      "cell_type": "code",
      "execution_count": null,
      "id": "0216e0c8-26bf-41e8-acaf-f82d3d85d718",
      "metadata": {
        "id": "0216e0c8-26bf-41e8-acaf-f82d3d85d718",
        "outputId": "b0e6a117-9781-4d35-d2ce-3175876ab1a5"
      },
      "outputs": [
        {
          "name": "stdout",
          "output_type": "stream",
          "text": [
            "1\n",
            "1\n",
            "2\n",
            "3\n",
            "4\n",
            "Hello World\n",
            "Hello World\n",
            "Hello World\n",
            "Hello World\n",
            "Hello World\n",
            "Hello World\n",
            "Hello World\n",
            "Hello World\n",
            "Hello World\n",
            "Hello World\n"
          ]
        }
      ],
      "source": [
        "com(lst)"
      ]
    },
    {
      "cell_type": "code",
      "execution_count": null,
      "id": "ef370afa-0128-4c5e-8021-0b84c17ea607",
      "metadata": {
        "id": "ef370afa-0128-4c5e-8021-0b84c17ea607"
      },
      "outputs": [],
      "source": [
        "def matcher(lst,match):\n",
        "    for item in lst:\n",
        "        if item == match:\n",
        "            return True\n",
        "\n",
        "    return False"
      ]
    },
    {
      "cell_type": "code",
      "execution_count": null,
      "id": "5e5155e9-6766-4d94-9ca3-e6e506e424cf",
      "metadata": {
        "id": "5e5155e9-6766-4d94-9ca3-e6e506e424cf",
        "outputId": "f0187ca6-1884-4ffe-f242-18769e7f8e99"
      },
      "outputs": [
        {
          "data": {
            "text/plain": [
              "[1, 2, 3, 4, 5, 6, 7, 8, 9]"
            ]
          },
          "execution_count": 56,
          "metadata": {},
          "output_type": "execute_result"
        }
      ],
      "source": [
        "lst"
      ]
    },
    {
      "cell_type": "code",
      "execution_count": null,
      "id": "e97c4d1a-cb32-472f-85d3-e8bdbc148e81",
      "metadata": {
        "id": "e97c4d1a-cb32-472f-85d3-e8bdbc148e81",
        "outputId": "212966df-3f76-49a4-9ea9-8d54f8f443da"
      },
      "outputs": [
        {
          "data": {
            "text/plain": [
              "False"
            ]
          },
          "execution_count": 60,
          "metadata": {},
          "output_type": "execute_result"
        }
      ],
      "source": [
        "matcher(lst,11)"
      ]
    },
    {
      "cell_type": "code",
      "execution_count": null,
      "id": "ecdf5bd1-c787-40bc-a39d-814db3f70705",
      "metadata": {
        "id": "ecdf5bd1-c787-40bc-a39d-814db3f70705",
        "outputId": "3025b5c4-b1b7-49c4-e2f9-a4142d5e3b75"
      },
      "outputs": [
        {
          "data": {
            "text/plain": [
              "['new', 'new', 'new', 'new', 'new']"
            ]
          },
          "execution_count": 76,
          "metadata": {},
          "output_type": "execute_result"
        }
      ],
      "source": [
        "def create_list(n):\n",
        "    new_list = []\n",
        "    for num in range(n):\n",
        "        new_list.append('new')\n",
        "    return new_list\n",
        "create_list(5)\n"
      ]
    },
    {
      "cell_type": "raw",
      "id": "9ed4248c-668f-4280-9d51-6581c4b42fe8",
      "metadata": {
        "id": "9ed4248c-668f-4280-9d51-6581c4b42fe8"
      },
      "source": []
    },
    {
      "cell_type": "code",
      "execution_count": 1,
      "id": "18e44917-b844-41a6-a9cc-2b505f55958e",
      "metadata": {
        "id": "18e44917-b844-41a6-a9cc-2b505f55958e",
        "outputId": "b069c6b4-40b0-42fc-f3d6-95af5770d5c8",
        "colab": {
          "base_uri": "https://localhost:8080/"
        }
      },
      "outputs": [
        {
          "output_type": "stream",
          "name": "stdout",
          "text": [
            "Enter the value of n: 5\n",
            "count = 30\n"
          ]
        }
      ],
      "source": [
        "# Python equivalent of the C program\n",
        "\n",
        "# Input: Read an integer\n",
        "n = int(input(\"Enter the value of n: \"))\n",
        "\n",
        "# Initialize count\n",
        "count = 0\n",
        "\n",
        "# First nested loop\n",
        "for i in range(n):\n",
        "    for j in range(n):\n",
        "        count += 1\n",
        "\n",
        "# Second loop\n",
        "for i in range(n):\n",
        "    count += 1\n",
        "\n",
        "# Print the result\n",
        "print(\"count =\", count)\n"
      ]
    }
  ],
  "metadata": {
    "kernelspec": {
      "display_name": "Python 3 (ipykernel)",
      "language": "python",
      "name": "python3"
    },
    "language_info": {
      "codemirror_mode": {
        "name": "ipython",
        "version": 3
      },
      "file_extension": ".py",
      "mimetype": "text/x-python",
      "name": "python",
      "nbconvert_exporter": "python",
      "pygments_lexer": "ipython3",
      "version": "3.12.4"
    },
    "colab": {
      "provenance": []
    }
  },
  "nbformat": 4,
  "nbformat_minor": 5
}