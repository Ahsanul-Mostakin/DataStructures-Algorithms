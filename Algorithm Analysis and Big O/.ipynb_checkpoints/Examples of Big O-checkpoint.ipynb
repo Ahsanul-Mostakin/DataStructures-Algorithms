{
 "cells": [
  {
   "cell_type": "code",
   "execution_count": 3,
   "id": "a164d282-c2c4-4b3d-a634-e0c4307d9dab",
   "metadata": {},
   "outputs": [],
   "source": [
    "#O(1) Constant\n",
    "def func_constant(values):\n",
    "    print (values[0])"
   ]
  },
  {
   "cell_type": "code",
   "execution_count": 10,
   "id": "86bf66fa-7b2d-4442-913a-953deffe62aa",
   "metadata": {},
   "outputs": [
    {
     "name": "stdout",
     "output_type": "stream",
     "text": [
      "1\n"
     ]
    }
   ],
   "source": [
    "first = [1, 2, 3, 4, 5, 6]\n",
    "func_constant(first)\n"
   ]
  },
  {
   "cell_type": "code",
   "execution_count": null,
   "id": "7a8800a0-530e-49b4-958f-4826c76f815c",
   "metadata": {},
   "outputs": [],
   "source": []
  },
  {
   "cell_type": "code",
   "execution_count": null,
   "id": "7b5735f5-1efe-4e7c-9cfe-f77906f88001",
   "metadata": {},
   "outputs": [],
   "source": []
  }
 ],
 "metadata": {
  "kernelspec": {
   "display_name": "Python 3 (ipykernel)",
   "language": "python",
   "name": "python3"
  },
  "language_info": {
   "codemirror_mode": {
    "name": "ipython",
    "version": 3
   },
   "file_extension": ".py",
   "mimetype": "text/x-python",
   "name": "python",
   "nbconvert_exporter": "python",
   "pygments_lexer": "ipython3",
   "version": "3.12.4"
  }
 },
 "nbformat": 4,
 "nbformat_minor": 5
}
