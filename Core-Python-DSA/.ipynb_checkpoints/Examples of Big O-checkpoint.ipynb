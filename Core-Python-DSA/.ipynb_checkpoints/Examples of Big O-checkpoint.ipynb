{
 "cells": [
  {
   "cell_type": "markdown",
   "id": "83585648-ee5d-4a20-a5ae-230a8d2f6796",
   "metadata": {},
   "source": [
    "# O(1) Constant"
   ]
  },
  {
   "cell_type": "code",
   "execution_count": 3,
   "id": "7a8800a0-530e-49b4-958f-4826c76f815c",
   "metadata": {},
   "outputs": [],
   "source": [
    "def func_constant(values):\n",
    "    print (values[0])"
   ]
  },
  {
   "cell_type": "code",
   "execution_count": 33,
   "id": "39e2365f-8af9-4c1e-a20b-9d6519306588",
   "metadata": {},
   "outputs": [
    {
     "name": "stdout",
     "output_type": "stream",
     "text": [
      "1\n"
     ]
    }
   ],
   "source": [
    "first = [1, 2, 3, 4, 5, 6]\n",
    "func_constant(first)"
   ]
  },
  {
   "cell_type": "markdown",
   "id": "c43ff457-4917-4364-a88b-dea1c28f258d",
   "metadata": {},
   "source": [
    "# O(n) Linear"
   ]
  },
  {
   "cell_type": "code",
   "execution_count": 35,
   "id": "580c454a-d243-4575-b20c-abe35d390131",
   "metadata": {},
   "outputs": [],
   "source": [
    "def func_lin(first):\n",
    "    for val in first:\n",
    "        print (val)"
   ]
  },
  {
   "cell_type": "code",
   "execution_count": 37,
   "id": "ec8da524-702c-4cc1-aacd-f5abf50dcd45",
   "metadata": {},
   "outputs": [
    {
     "name": "stdout",
     "output_type": "stream",
     "text": [
      "1\n",
      "2\n",
      "3\n",
      "4\n",
      "5\n",
      "6\n"
     ]
    }
   ],
   "source": [
    "func_lin(first)"
   ]
  },
  {
   "cell_type": "markdown",
   "id": "ea038e14-14b3-4883-ad7f-0dbd39b820ae",
   "metadata": {},
   "source": [
    "# O(n^2) Quadratic"
   ]
  },
  {
   "cell_type": "code",
   "execution_count": 42,
   "id": "291d8c3d-0e6b-4027-a7f0-617197468e37",
   "metadata": {},
   "outputs": [],
   "source": [
    "    def func_quad(first):\n",
    "        for item_1 in first:\n",
    "            for item_2 in first:\n",
    "                print (item_1,item_2)"
   ]
  },
  {
   "cell_type": "code",
   "execution_count": 44,
   "id": "13f9fde8-df13-48df-980f-ad73bc0e4e7f",
   "metadata": {},
   "outputs": [
    {
     "name": "stdout",
     "output_type": "stream",
     "text": [
      "1 1\n",
      "1 2\n",
      "1 3\n",
      "2 1\n",
      "2 2\n",
      "2 3\n",
      "3 1\n",
      "3 2\n",
      "3 3\n"
     ]
    }
   ],
   "source": [
    "first = [1,2,3]\n",
    "func_quad(first)"
   ]
  },
  {
   "cell_type": "code",
   "execution_count": 2,
   "id": "7c997b5a-aa5a-4fc6-a671-7ae49f26d1c3",
   "metadata": {},
   "outputs": [],
   "source": [
    "\n",
    "lst =[1,2,3]\n",
    "def print_once(lst):\n",
    "    for val in lst:\n",
    "        print (val)\n"
   ]
  },
  {
   "cell_type": "code",
   "execution_count": 4,
   "id": "e4c6a84f-0b1e-42a9-9dfd-6f604a212f2e",
   "metadata": {},
   "outputs": [
    {
     "name": "stdout",
     "output_type": "stream",
     "text": [
      "1\n",
      "2\n",
      "3\n"
     ]
    }
   ],
   "source": [
    "print_once(lst)"
   ]
  },
  {
   "cell_type": "code",
   "execution_count": 8,
   "id": "60e2fd20-fdb1-44d5-b24f-d3508aceb75e",
   "metadata": {},
   "outputs": [],
   "source": [
    "def print_2(lst):\n",
    "    for val in lst:\n",
    "        print (val)\n",
    "\n",
    "    for val in lst:\n",
    "        print (val)"
   ]
  },
  {
   "cell_type": "code",
   "execution_count": 10,
   "id": "256af54a-9a46-42d2-94ad-46afd1a3c74c",
   "metadata": {},
   "outputs": [
    {
     "name": "stdout",
     "output_type": "stream",
     "text": [
      "1\n",
      "2\n",
      "3\n",
      "1\n",
      "2\n",
      "3\n"
     ]
    }
   ],
   "source": [
    "print_2(lst)"
   ]
  },
  {
   "cell_type": "code",
   "execution_count": 26,
   "id": "d9676784-4f76-417d-a2f5-642e382c6687",
   "metadata": {},
   "outputs": [],
   "source": [
    "def com(lst):\n",
    "    print(lst[0])\n",
    "    midpoint = len(lst) / 2\n",
    "\n",
    "    for val in lst[:midpoint]:\n",
    "        print(val)\n",
    "\n",
    "    for x in range(10):\n",
    "        print('Hello World')\n",
    "\n",
    "     "
   ]
  },
  {
   "cell_type": "code",
   "execution_count": 28,
   "id": "a3b96ea3-24e9-41ef-8789-445304b4590a",
   "metadata": {},
   "outputs": [],
   "source": [
    "lst = [1,2,3,4,5,6,7,8,9]"
   ]
  },
  {
   "cell_type": "code",
   "execution_count": 24,
   "id": "0216e0c8-26bf-41e8-acaf-f82d3d85d718",
   "metadata": {},
   "outputs": [
    {
     "name": "stdout",
     "output_type": "stream",
     "text": [
      "1\n",
      "1\n",
      "2\n",
      "3\n",
      "4\n",
      "Hello World\n",
      "Hello World\n",
      "Hello World\n",
      "Hello World\n",
      "Hello World\n",
      "Hello World\n",
      "Hello World\n",
      "Hello World\n",
      "Hello World\n",
      "Hello World\n"
     ]
    }
   ],
   "source": [
    "com(lst)"
   ]
  },
  {
   "cell_type": "code",
   "execution_count": 54,
   "id": "ef370afa-0128-4c5e-8021-0b84c17ea607",
   "metadata": {},
   "outputs": [],
   "source": [
    "def matcher(lst,match):\n",
    "    for item in lst:\n",
    "        if item == match:\n",
    "            return True\n",
    "\n",
    "    return False"
   ]
  },
  {
   "cell_type": "code",
   "execution_count": 56,
   "id": "5e5155e9-6766-4d94-9ca3-e6e506e424cf",
   "metadata": {},
   "outputs": [
    {
     "data": {
      "text/plain": [
       "[1, 2, 3, 4, 5, 6, 7, 8, 9]"
      ]
     },
     "execution_count": 56,
     "metadata": {},
     "output_type": "execute_result"
    }
   ],
   "source": [
    "lst"
   ]
  },
  {
   "cell_type": "code",
   "execution_count": 60,
   "id": "e97c4d1a-cb32-472f-85d3-e8bdbc148e81",
   "metadata": {},
   "outputs": [
    {
     "data": {
      "text/plain": [
       "False"
      ]
     },
     "execution_count": 60,
     "metadata": {},
     "output_type": "execute_result"
    }
   ],
   "source": [
    "matcher(lst,11)"
   ]
  },
  {
   "cell_type": "code",
   "execution_count": 76,
   "id": "ecdf5bd1-c787-40bc-a39d-814db3f70705",
   "metadata": {},
   "outputs": [
    {
     "data": {
      "text/plain": [
       "['new', 'new', 'new', 'new', 'new']"
      ]
     },
     "execution_count": 76,
     "metadata": {},
     "output_type": "execute_result"
    }
   ],
   "source": [
    "def create_list(n):\n",
    "    new_list = []\n",
    "    for num in range(n):\n",
    "        new_list.append('new')\n",
    "    return new_list\n",
    "create_list(5)\n"
   ]
  },
  {
   "cell_type": "raw",
   "id": "9ed4248c-668f-4280-9d51-6581c4b42fe8",
   "metadata": {},
   "source": []
  },
  {
   "cell_type": "code",
   "execution_count": null,
   "id": "18e44917-b844-41a6-a9cc-2b505f55958e",
   "metadata": {},
   "outputs": [],
   "source": []
  }
 ],
 "metadata": {
  "kernelspec": {
   "display_name": "Python 3 (ipykernel)",
   "language": "python",
   "name": "python3"
  },
  "language_info": {
   "codemirror_mode": {
    "name": "ipython",
    "version": 3
   },
   "file_extension": ".py",
   "mimetype": "text/x-python",
   "name": "python",
   "nbconvert_exporter": "python",
   "pygments_lexer": "ipython3",
   "version": "3.12.4"
  }
 },
 "nbformat": 4,
 "nbformat_minor": 5
}
