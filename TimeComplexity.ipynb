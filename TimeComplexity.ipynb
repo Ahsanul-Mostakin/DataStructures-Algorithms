{
  "nbformat": 4,
  "nbformat_minor": 0,
  "metadata": {
    "colab": {
      "provenance": [],
      "include_colab_link": true
    },
    "kernelspec": {
      "name": "python3",
      "display_name": "Python 3"
    },
    "language_info": {
      "name": "python"
    }
  },
  "cells": [
    {
      "cell_type": "markdown",
      "metadata": {
        "id": "view-in-github",
        "colab_type": "text"
      },
      "source": [
        "<a href=\"https://colab.research.google.com/github/Ahsanul-Mostakin/DataStructures-Algorithms/blob/main/TimeComplexity.ipynb\" target=\"_parent\"><img src=\"https://colab.research.google.com/assets/colab-badge.svg\" alt=\"Open In Colab\"/></a>"
      ]
    },
    {
      "cell_type": "code",
      "execution_count": 1,
      "metadata": {
        "id": "1PtTfQo53AJR",
        "colab": {
          "base_uri": "https://localhost:8080/"
        },
        "outputId": "b784b6b6-edda-4892-e943-af7ef43fbf8b"
      },
      "outputs": [
        {
          "output_type": "stream",
          "name": "stdout",
          "text": [
            "Enter the value of n: 5\n",
            "count = 30\n"
          ]
        }
      ],
      "source": [
        "# Python equivalent of the C program\n",
        "\n",
        "# Input: Read an integer\n",
        "n = int(input(\"Enter the value of n: \"))\n",
        "\n",
        "# Initialize count\n",
        "count = 0\n",
        "\n",
        "# First nested loop\n",
        "for i in range(n):\n",
        "    for j in range(n):\n",
        "        count += 1\n",
        "\n",
        "# Second loop\n",
        "for i in range(n):\n",
        "    count += 1\n",
        "\n",
        "# Print the result\n",
        "print(\"count =\", count)\n"
      ]
    }
  ]
}